{
 "cells": [
  {
   "cell_type": "code",
   "execution_count": null,
   "metadata": {},
   "outputs": [],
   "source": [
    "# install libraries\n",
    "from random import randint\n",
    "\n",
    "#Store the valuable elements in a variable\n",
    "r=['rock', 'paper', 'scissor']\n",
    "\n",
    "#To choose a random value in a variable\n",
    "computer = r[randint(0,2)]\n",
    "\n",
    "#initialise the player = False\n",
    "player = False\n",
    "\n",
    "#To execute the game by while loop\n",
    "while player == False:\n",
    "    player = input(\"Enter a step like rock, paper, scissor  or exit : \")\n",
    "    if computer == player.lower():\n",
    "        print(\"Tie\")\n",
    "\n",
    "    elif computer.lower()== \"rock\" or \"paper\" or \"scissor\":\n",
    "        if computer == \"rock\" and player.lower() == \"paper\":\n",
    "            print(\"player is winner\")\n",
    "\n",
    "        elif computer == \"rock\" and player.lower() == \"scissor\":\n",
    "            print(\"Computer is winner\")\n",
    "\n",
    "        elif computer == \"paper\" and player.lower() == \"rock\":\n",
    "            print(\"Computer is winner\")\n",
    "\n",
    "        elif computer == \"paper\" and player.lower() == \"scissor\":\n",
    "            print(\"Player is winner\")\n",
    "\n",
    "        elif computer == \"scissor\" and player.lower() == \"rock\":\n",
    "            print(\"Player is winner\")\n",
    "\n",
    "        elif computer == \"scissor\" and player.lower() == \"paper\":\n",
    "            print(\"Computer is winner\")\n",
    "        \n",
    "        elif player.lower() == 'exit':\n",
    "            break\n",
    "\n",
    "        else: \n",
    "            print('Invalid')\n",
    "\n",
    "    else:\n",
    "        print('Invalid')\n",
    "       \n",
    "    player = False\n",
    "    computer = r[randint(0,2)]\n"
   ]
  }
 ],
 "metadata": {
  "language_info": {
   "name": "python"
  }
 },
 "nbformat": 4,
 "nbformat_minor": 2
}
