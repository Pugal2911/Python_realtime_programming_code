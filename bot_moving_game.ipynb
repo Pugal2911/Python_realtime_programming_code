{
 "cells": [
  {
   "cell_type": "code",
   "execution_count": null,
   "metadata": {},
   "outputs": [],
   "source": [
    "#Function Defining\n",
    "def manhattan(A,ops):\n",
    "    for op in ops:\n",
    "        if (op.upper() == \"UP\"):\n",
    "            A[1] += 1\n",
    "        elif (op.upper() == \"DOWN\"):\n",
    "            A[1] -= 1\n",
    "        elif (op.upper() == \"LEFT\"):\n",
    "            A[0] -= 1\n",
    "        elif (op.upper() == \"RIGHT\"):\n",
    "            A[0] += 1\n",
    "        elif (op.upper() == \"STOP\"):\n",
    "            A[0] += 0\n",
    "        else:\n",
    "            print(\"Invalid move provided. Please use 'UP','DOWN','LEFT' or 'RIGHT'.\")\n",
    "            return None\n",
    "    distance = abs(A[0])+abs(A[1])\n",
    "    return distance\n",
    "\n",
    "#initialize the Starting Place\n",
    "A = [0,0]\n",
    "ops = []\n",
    "\n",
    "start = input(\"Enter START to start the bot: \")\n",
    "while start.upper() == \"START\":\n",
    "    op = input(\"Move a bot using 'UP', 'DOWN', 'LEFT', 'RIGHT': \")\n",
    "    ops.append(op)\n",
    "    if op.upper() == \"STOP\":\n",
    "        break\n",
    "\n",
    "print(ops)\n",
    "new_distance = manhattan(A,ops)\n",
    "print(\"Manhattan distance after the moves:\", new_distance)"
   ]
  }
 ],
 "metadata": {
  "kernelspec": {
   "display_name": "Python 3",
   "language": "python",
   "name": "python3"
  },
  "language_info": {
   "codemirror_mode": {
    "name": "ipython",
    "version": 3
   },
   "file_extension": ".py",
   "mimetype": "text/x-python",
   "name": "python",
   "nbconvert_exporter": "python",
   "pygments_lexer": "ipython3",
   "version": "3.12.3"
  }
 },
 "nbformat": 4,
 "nbformat_minor": 2
}
